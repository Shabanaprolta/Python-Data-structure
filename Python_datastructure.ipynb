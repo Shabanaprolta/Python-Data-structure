{
  "nbformat": 4,
  "nbformat_minor": 0,
  "metadata": {
    "colab": {
      "provenance": []
    },
    "kernelspec": {
      "name": "python3",
      "display_name": "Python 3"
    },
    "language_info": {
      "name": "python"
    }
  },
  "cells": [
    {
      "cell_type": "markdown",
      "source": [
        "#**Data** **Types** **and** **Structure** **Questions**\n",
        "\n",
        "\n",
        "\n",
        "\n",
        "##1. What are data structures , and why are they important?\n",
        "-> Data structures are a fundamental concept in computer science that organize and store data in a way that makes it efficient to access amd manipulate. They are important because they improve code performance, help with memory management and are the basis of algorithms because they can filter and sort large amounts of data.\n",
        "\n",
        "\n",
        "##2. Explain the difference between mutable and immutable data types with examples.\n",
        "-> Mutable data types: It allow changes to their values without changing their identity. This means that the same object in memory can be altered. Examples:\n",
        "  - Lists\n",
        "  - Dictionaries\n",
        "  - Sets\n",
        "\n",
        " Immutable data types: It do not allow modifications after creation. Any operation that appears to modify an immutable object actually creats a new object with the updated value . The original object remains unchanged. Example:\n",
        "  - Strings\n",
        "  - Tuples\n",
        "  - Integers\n",
        "  - Float\n",
        "  - Booleans\n",
        "\n",
        "\n",
        "\n",
        "##3. What are the main difference between lists and tuples in Python ?\n",
        "-> The key difference between tuples and lists is that while tuples are immutable objects, lists are mutable. This means tuples cannot be changed while lists can be modified. Tuples are also more memory efficient than the lists.\n",
        "\n",
        "\n",
        "\n",
        "##4. Describe how dictionaries store data.\n",
        "-> Dictionaries are used to store data values in key : value pairs . A dictionary is a collection which is ordered, changeable and do not allow duplicates. Dictionaries are written with curly brackets , and have keys and values.\n",
        "\n",
        "\n",
        "\n",
        "##5. Why might you use a set instead of a list in Python?\n",
        "-> A set and a list are both built-in data structure in Python, but they serve different purposes and have distinct characteristics . Sets are unordered collections of unique elements , while lists are ordered collections that can contain duplicate elements. Here are some reasons why one might use a set instead of a list:\n",
        "  - Ensuring uniqueness\n",
        "  - Efficient membership testing\n",
        "  - Removing duplicates\n",
        "  - Order is not important\n",
        "\n",
        "\n",
        "\n",
        "##6. What is  a string in Python, and how is it different from a list?\n",
        "-> In Python, a \"string\" is a sequence of characters enclosed in single or double quotes , representing textual data , while a \"list\" is a collection of items enclosed in a square brackets , allowing for modifications and flexibility, making the key difference that string are immutable (cannot be changed once created ) while lists are mutable (can be changed after creation).\n",
        "\n",
        "##7. How do tuples ensure data integrity in Python?\n",
        "-> Tuples in Python ensure data integrity through their immutability. Once a tuple is created , its elements cannot be changed , added , or removed. This charcteristics provides several benefits for maintaining data integrity:\n",
        "\n",
        "  - Prevention of accidental modification\n",
        "  - Data consistency\n",
        "  - Thread safety\n",
        "  - Use as dictionary keys\n",
        "\n",
        "##8. What is a hash table , and how does it relate to dictionaries in Python?\n",
        "-> A hash table is a data structure that stores key-value pairs. It uses a hash function to compute an index for each key, which determines the location where the corresponding value is sorted in an array . This mechanism allows for efficient data retrival, insertion , and deletion.\n",
        "\n",
        "In python , dictionaries are implemented using hash tables. When a key-value pair is added to a dictionary , Python calculates the hash value of the key to determine where to store the value. When retriving a value , Python again calculates the hash value of the key to quickly  locate the corresponding value.\n",
        "\n",
        "\n",
        "##9. Can lists contain different data types in Python ?\n",
        "-> Python lists are capable of storing elements of different data types. This means a single list can contain integers , strings , floats , booleans , and even other lists or more complex objects.\n",
        "\n",
        "##10. Explain why strings are immutable in Python?\n",
        "-> In Python, strings are immutable, meaning that once a string is created, its value cannot be changed. Any operation that appears to modify a string actually creates a new string object with the modified content.\n",
        "\n",
        "##11. What advantages do dictionaries offer over lists for certain tasks?\n",
        "-> Dictionaries offer several advantages over lists for certain tasks, including:\n",
        "  - Faster lookups:\n",
        "  Dictionaries are ideal for tasks that require frequent lookups or searches because they use a hash table to store key-value pairs.\n",
        "  - Better for indexing :\n",
        "  Dictionaries are more useful when indexing is needed so that any search can be narrowed down and is less time-consuming. For example, saving phone numbers with indexing allows you to search by name more quickly than with a list .\n",
        "  - More flexible :\n",
        "  Dictionaries can store any type of data as both the key and the value. this makes them well-suited to a wide range of tasks , including storing complex data structures such as graphs and databases.\n",
        "\n",
        "##12. Describe a scenario where using a tuple would be preferable over a list.\n",
        "-> A tuple would be preferable over a list when you need to store a collection of data that should never be changed throughout your program, such as representing your program, such as representing a set of fixed coordinates, storing a person's birthdate (day,month,year), or defining configuration settings where the values should remain constant.\n",
        "Key points about tuples that make them suitable in this scenario:\n",
        "- immutability:\n",
        "Tuples are immutable , meaning once created , their elements cannot be modified. This helps enforce data integrity and prevents accidental changes to critical information.\n",
        "-Dictionary keys:\n",
        "Since tuples are immutable , they can be used as keys in dictionaries , which is not possible with lists.\n",
        "\n",
        "##13. How do sets handle duplicate values in Python ?\n",
        "-> Sets in Python are designed to store unique elements. This means that when you attempt to add a duplicate value to a set, it will not be addded, and the set will remain unchanged. Python sets automatically handle the removal of duplicate values.\n",
        "\n",
        "- Behaviour with Duplicates:\n",
        "when you initialize a set with duplicate values or attempt to add a duplicate value using the add() method, the set will only store one instance of that value.\n",
        "- Use Case:\n",
        "  Removing Duplicates  \n",
        "Sets are often used to efficiently remove duplicates from a list. By converting a list to a set , the duplicate values are automatically discarded ,and then the unique values can be converted back to a list if needed.  \n",
        "\n",
        "\n",
        "##14. How does the \"in\" keyword work differently for lists and dictionaries ?\n",
        "-> When using the \"in\" keyword, it checks if a value exists within a list by searching through its elements , while in a dictionary , it checks if a value  exists as a key, meaning it only looks at the keys of the dictionary , not the values ;\n",
        " - List :\n",
        "When you use \"in\" with a list, it iterates through the elements in the list to see if the specified value a present anywhere within the list.\n",
        "- Dictionary:\n",
        "When you use \"in\" with a dictionary , it only checks if the specified value exists as a key in the dictionary.\n",
        "\n",
        "##15. Can you modify the elements of a tuple? Explain why or why not.\n",
        "-> No, you cannot modify the elements of a tuple in Python because tuples are \"immutable\", meaning once created , their elements cannot be changed,added , or removed. Key points about tuples and immutability:\n",
        "- Reason for immutabilty:\n",
        "Tuples are often used to store data that should not be altered , like coordinates or key-value pairs where the order is important.\n",
        "- Attempting to modify :\n",
        "If you try to directly assign a new value to an element in a tuple , you will get a Type Error.\n",
        "- Workaround :\n",
        "If you need to modify data , you can convert the tuple to a list , make changes, and then convert it back to a tuple if necessary.\n",
        "\n",
        "##16. What is a nested dictionary, and give an example of its use case?\n",
        "-> A \"nested dictionary\" is a data structure where a dictionary contains other dictionary as its values, essentially creating a hierarchy of key-value pairs within a single dictionary ; in simple terms , it's  a dictionary inside another dictionary.\n",
        "- Use Case:\n",
        "Nested dictionaries are useful for representing complex hierarchical data , like organizational charts where departments are keys and employees within each department are values in a nested dictionary.\n",
        "Example (Python):\n",
        "\n",
        "   \n",
        "student_data = {  \"John\" : { \"age \" : 25 , \"grade\" : \"A\" },\n",
        "                \"Jane\" : { \"age \" : 22 , \"grade\" : \"B\" } }\n",
        "\n",
        "-Explanation:\n",
        "   - student_data is the main dictionary.\n",
        "   - \"John\" and \"Jane\" are keys in the main dictionary , each pointing to another dictionary containing their individual data (age and grade).\n",
        "\n",
        "\n",
        "##17. Describe the time complexity of accessing elements in a dictionary.\n",
        "-> The time complexity of accessing elemets in a Python dictionary is generally considered to be O(1) on average , also known as constant time complexity. This means that the time it takes to access an element does not depend on the size of the dictionary. wheather the dictionary has 10 times or 10 million items , accessing a specific element will take roughly the same amount of time.\n",
        "This efficiency is achieved through the use of a hash table data structure . When a key-value pair is added to a dictionary, the key is passed through a hash function, which generates a unique index. This index determines where the key-value pair will be stored in memory. When an element is accessed , the key is hashed again, and the corresponding index is used to retrieve the value directly.\n",
        "- In Worst-case scenario O(n) : There are many hash collisions,the dictionary has to search through a list of elements to find the correct one, which can take linear time.\n",
        "- In Average-case scenario O(1) : This is relatively rare in practice. Python's hash function is designed to minimize collisions , which can take constant time.\n",
        "\n",
        "##18. In what situations are lists preferred over dictionaries?\n",
        "->\n",
        "lists are preferred over dictionaries:\n",
        " - Storing a list of items in order:\n",
        " Representing a shopping list, a stack of items , or a queue where the order of elements matters.\n",
        " - Iterating through data in order:\n",
        " Looping through a sequence of steps in an algorithm where the order is important.\n",
        " - Perfotming operations on a sequence :\n",
        " Slicing a list to extract a specific subset of elements.\n",
        "\n",
        "##19. why are dictionaries considered unordered , and how does that affect data retrieval?\n",
        "-> As of Python 3.7, dictionaries maintain the insertion order of keys. This means that when you iterate over a dictionary, the keys will be returned in the order they were added. However, prior to Python 3.7, dictionaries were considered unordered, meaning that the order of  keys was not guranteed. Dictionary retrives data using a specific key, meaning you access elements in a dictionary based on a label or identifier rather than their position in the collection.\n",
        "\n",
        "##20. Explain the difference between a list and a dictionary in terms of data retrieval.\n",
        "-> A list retrives data using its index position(like an ordered sequnce), while a dictionary retrives data using a specific key,meaning you access elements in a dictionary based on a label or identifier rather than their position in the collection ; essentially , a list is like a numbered list, and a dictionary is like a labaled index where you look up information using a specific key to find its associated value.\n",
        "\n",
        "  List:\n",
        "  - Ordered collection of elements .\n",
        "  - Access elements using an integer index (starting from 0)\n",
        "  - Example : my_list = [ \"apple\",\"banana\", \"orange\"] - To access \"banana\", use my_list[1].\n",
        "\n",
        "  Dictionary:\n",
        "  - Unordered collection of key-value pairs.\n",
        "  - Access elements using a unique key (which can be a string, number, or other data type).\n",
        "  - Example : my_dict = {\"fruit\" : \"apple\", \"color\" : \"red\" } - To access \"apple\" , use my_dict[\"fruit\"].\n",
        "\n"
      ],
      "metadata": {
        "id": "hEA1C4x9C9Ug"
      }
    },
    {
      "cell_type": "markdown",
      "source": [
        "# **Practical** **Questions**"
      ],
      "metadata": {
        "id": "r0vyFt5KPIMP"
      }
    },
    {
      "cell_type": "code",
      "source": [
        "# 1 Write a code to create a string with your name and print it.\n",
        "name = \"Shabana\"\n",
        "print(name)"
      ],
      "metadata": {
        "id": "gmF28pZZPItN",
        "colab": {
          "base_uri": "https://localhost:8080/"
        },
        "outputId": "6484399e-f3e7-4906-f758-96f7038945cf"
      },
      "execution_count": 2,
      "outputs": [
        {
          "output_type": "stream",
          "name": "stdout",
          "text": [
            "Shabana\n"
          ]
        }
      ]
    },
    {
      "cell_type": "code",
      "source": [
        "# 2 Write a code to find the length of the string \"hello World\".\n",
        "string = \"hello World\"\n",
        "print(len(string))"
      ],
      "metadata": {
        "id": "mKrwv_zwQGzP",
        "colab": {
          "base_uri": "https://localhost:8080/"
        },
        "outputId": "d0ba39af-f45d-4619-806c-42831328eeea"
      },
      "execution_count": 3,
      "outputs": [
        {
          "output_type": "stream",
          "name": "stdout",
          "text": [
            "11\n"
          ]
        }
      ]
    },
    {
      "cell_type": "code",
      "source": [
        "# 3 Write a code to slice the first 3 characters from the string \"Python Programming\".\n",
        "string = \"Python Programming\"\n",
        "print(string[0:3])"
      ],
      "metadata": {
        "id": "Px_urvEBQGv7",
        "colab": {
          "base_uri": "https://localhost:8080/"
        },
        "outputId": "b198a283-b6c4-4cab-f748-61194cc33950"
      },
      "execution_count": 4,
      "outputs": [
        {
          "output_type": "stream",
          "name": "stdout",
          "text": [
            "Pyt\n"
          ]
        }
      ]
    },
    {
      "cell_type": "code",
      "source": [
        "# 4 Write a code to convert the string \"hello\" to uppercase.\n",
        "string = \"hello\"\n",
        "print(string.upper())"
      ],
      "metadata": {
        "id": "8YznH0H7QGsf",
        "colab": {
          "base_uri": "https://localhost:8080/"
        },
        "outputId": "f1fbff1f-e40c-4efe-8c04-77af23152b8c"
      },
      "execution_count": 5,
      "outputs": [
        {
          "output_type": "stream",
          "name": "stdout",
          "text": [
            "HELLO\n"
          ]
        }
      ]
    },
    {
      "cell_type": "code",
      "source": [
        "# 5 Write a code to replace the word \"apple\" with \"orange\" in the string \"i like apple\".\n",
        "string = \"i like apple\"\n",
        "print(string.replace(\"apple\",\"orange\"))"
      ],
      "metadata": {
        "id": "d3MzItWfQGlv",
        "colab": {
          "base_uri": "https://localhost:8080/"
        },
        "outputId": "00e70489-80e0-4c2e-e9ec-d3cbfe6e69fb"
      },
      "execution_count": 6,
      "outputs": [
        {
          "output_type": "stream",
          "name": "stdout",
          "text": [
            "i like orange\n"
          ]
        }
      ]
    },
    {
      "cell_type": "code",
      "source": [
        "# 6 Write a code to create a list with numbers 1 to 5 and print it\n",
        "list = [1,2,3,4,5]\n",
        "print(list)"
      ],
      "metadata": {
        "id": "QFUV8CbkQGe6",
        "colab": {
          "base_uri": "https://localhost:8080/"
        },
        "outputId": "23a0928e-236b-4602-b15d-142b2f89d6a0"
      },
      "execution_count": 7,
      "outputs": [
        {
          "output_type": "stream",
          "name": "stdout",
          "text": [
            "[1, 2, 3, 4, 5]\n"
          ]
        }
      ]
    },
    {
      "cell_type": "code",
      "source": [
        "# 7 Write a code to append the number 10 to the list [1,2,3,4].\n",
        "list = [1,2,3,4]\n",
        "list.append(10)\n",
        "print(list)\n"
      ],
      "metadata": {
        "id": "HyaichdhQGcL",
        "colab": {
          "base_uri": "https://localhost:8080/"
        },
        "outputId": "7a94d4d3-1d80-4210-c3f6-2a4573373ef7"
      },
      "execution_count": 10,
      "outputs": [
        {
          "output_type": "stream",
          "name": "stdout",
          "text": [
            "[1, 2, 3, 4, 10]\n"
          ]
        }
      ]
    },
    {
      "cell_type": "code",
      "source": [
        "# 8 Write a code to remove the number 3 from the list [1,2,3,4,5].\n",
        "list = [1,2,3,4,5]\n",
        "list.remove(3)\n",
        "print(list)"
      ],
      "metadata": {
        "id": "Qrx2D32cQGZ-",
        "colab": {
          "base_uri": "https://localhost:8080/"
        },
        "outputId": "a4147eea-e608-4902-bd3c-208930742da2"
      },
      "execution_count": 11,
      "outputs": [
        {
          "output_type": "stream",
          "name": "stdout",
          "text": [
            "[1, 2, 4, 5]\n"
          ]
        }
      ]
    },
    {
      "cell_type": "code",
      "source": [
        "# 9 Write a code to access the second element in the list ['a','b','c','d'].\n",
        "list = ['a','b','c','d']\n",
        "print(list[1])"
      ],
      "metadata": {
        "id": "k68Jg-00QGW1",
        "colab": {
          "base_uri": "https://localhost:8080/"
        },
        "outputId": "a0ed46d6-053a-4aa2-e774-e2a1d5cc3a1f"
      },
      "execution_count": 12,
      "outputs": [
        {
          "output_type": "stream",
          "name": "stdout",
          "text": [
            "b\n"
          ]
        }
      ]
    },
    {
      "cell_type": "code",
      "source": [
        "# 10 Write a code to reverse the list [10,20,30,40,50].\n",
        "list = [10,20,30,40,50]\n",
        "print(list[::-1])\n"
      ],
      "metadata": {
        "id": "30DinpjbQGSJ",
        "colab": {
          "base_uri": "https://localhost:8080/"
        },
        "outputId": "6a281f72-7e33-4066-910a-a8c7566e582d"
      },
      "execution_count": 14,
      "outputs": [
        {
          "output_type": "stream",
          "name": "stdout",
          "text": [
            "[50, 40, 30, 20, 10]\n"
          ]
        }
      ]
    },
    {
      "cell_type": "code",
      "source": [
        "# 11 Write a code to create a tuple with the elements 10,20,30 and print it.\n",
        "tuple = (10,20,30)\n",
        "print(tuple)\n"
      ],
      "metadata": {
        "id": "fYAeaYSFQGMr",
        "colab": {
          "base_uri": "https://localhost:8080/"
        },
        "outputId": "5583db4d-44a2-44ec-8c65-732170bc8c18"
      },
      "execution_count": 15,
      "outputs": [
        {
          "output_type": "stream",
          "name": "stdout",
          "text": [
            "(10, 20, 30)\n"
          ]
        }
      ]
    },
    {
      "cell_type": "code",
      "source": [
        "# 12 Write a code to access the first element of the tuple ('apple','banana','cherry').\n",
        "tuple = ('apple','banana','cherry')\n",
        "print(tuple[0])\n"
      ],
      "metadata": {
        "id": "E2YxvkIHQGIS",
        "colab": {
          "base_uri": "https://localhost:8080/"
        },
        "outputId": "a3c199d0-9ef3-4d83-c4cf-335dbf94b0d2"
      },
      "execution_count": 17,
      "outputs": [
        {
          "output_type": "stream",
          "name": "stdout",
          "text": [
            "apple\n"
          ]
        }
      ]
    },
    {
      "cell_type": "code",
      "source": [
        "# 13 write a code to count how many times the number 2 appears in the tuple (1,2,3,2,4,2).\n",
        "tuple = (1,2,3,2,4,2)\n",
        "print(tuple.count(2))"
      ],
      "metadata": {
        "id": "u9UkukcGQGEm",
        "colab": {
          "base_uri": "https://localhost:8080/"
        },
        "outputId": "883d4014-2d9f-4412-f83b-5ae18c422e5d"
      },
      "execution_count": 18,
      "outputs": [
        {
          "output_type": "stream",
          "name": "stdout",
          "text": [
            "3\n"
          ]
        }
      ]
    },
    {
      "cell_type": "code",
      "source": [
        "# 14 Write a code to find the index of the element \"cat\" in the tuple('dog','cat','rabbit').\n",
        "tuple = ('dog','cat','rabbit')\n",
        "print(tuple.index('cat'))"
      ],
      "metadata": {
        "id": "SV_fHIe1QF3g",
        "colab": {
          "base_uri": "https://localhost:8080/"
        },
        "outputId": "1e162288-fe92-49a2-be64-b1362e644140"
      },
      "execution_count": 19,
      "outputs": [
        {
          "output_type": "stream",
          "name": "stdout",
          "text": [
            "1\n"
          ]
        }
      ]
    },
    {
      "cell_type": "code",
      "source": [
        "# 15 Write a code to check if the element \"banana\" is in the tuple ('apple', 'orange','banana').\n",
        "tuple = ('apple', 'orange','banana')\n",
        "print('banana' in tuple)"
      ],
      "metadata": {
        "id": "dNualyJDQFto",
        "colab": {
          "base_uri": "https://localhost:8080/"
        },
        "outputId": "0b55ef17-71c5-4ee9-fd21-9f075c8ac988"
      },
      "execution_count": 20,
      "outputs": [
        {
          "output_type": "stream",
          "name": "stdout",
          "text": [
            "True\n"
          ]
        }
      ]
    },
    {
      "cell_type": "code",
      "source": [
        "# 16 Write a code to create a set with the elements  1,2,3,4,5 and print it.\n",
        "set = {1,2,3,4,5}\n",
        "print(set)"
      ],
      "metadata": {
        "id": "hlQpkYCBQFkw",
        "colab": {
          "base_uri": "https://localhost:8080/"
        },
        "outputId": "dba37a0e-2c14-4668-e22f-0651267d358c"
      },
      "execution_count": 21,
      "outputs": [
        {
          "output_type": "stream",
          "name": "stdout",
          "text": [
            "{1, 2, 3, 4, 5}\n"
          ]
        }
      ]
    },
    {
      "cell_type": "code",
      "source": [
        "# 17 Write a code to add the elements 6 to the set {1,2,3,4}.\n",
        "set = {1,2,3,4}\n",
        "set.add(6)\n",
        "print(set)"
      ],
      "metadata": {
        "id": "iJDGmJUeQFX6",
        "colab": {
          "base_uri": "https://localhost:8080/"
        },
        "outputId": "c70a7e28-ff38-4593-ba21-7e666ecd5e8b"
      },
      "execution_count": 22,
      "outputs": [
        {
          "output_type": "stream",
          "name": "stdout",
          "text": [
            "{1, 2, 3, 4, 6}\n"
          ]
        }
      ]
    },
    {
      "cell_type": "code",
      "source": [
        "# 18 Write a code to create a tuple with the elements 10,20,30 and print it.\n",
        "tuple = (10,20,30)\n",
        "print(tuple)\n"
      ],
      "metadata": {
        "id": "Tjlu_e4OQFBq",
        "colab": {
          "base_uri": "https://localhost:8080/"
        },
        "outputId": "5271308d-b079-4a89-9f63-98324b684966"
      },
      "execution_count": 23,
      "outputs": [
        {
          "output_type": "stream",
          "name": "stdout",
          "text": [
            "(10, 20, 30)\n"
          ]
        }
      ]
    },
    {
      "cell_type": "code",
      "source": [
        "# 19 Write a code to access the first element of the tuple('apple','banana','cherry').\n",
        "tuple = ('apple','banana','cherry')\n",
        "print(tuple[0])\n"
      ],
      "metadata": {
        "colab": {
          "base_uri": "https://localhost:8080/"
        },
        "id": "oWgLkMRG1-fU",
        "outputId": "16ac8b8d-fd00-47a8-f61e-103f1e0afb07"
      },
      "execution_count": 25,
      "outputs": [
        {
          "output_type": "stream",
          "name": "stdout",
          "text": [
            "apple\n"
          ]
        }
      ]
    },
    {
      "cell_type": "code",
      "source": [
        "# 20 Write a code to count how many times the number 2 appears in the tuple (1,2,3,2,4,2).\n",
        "tuple = (1,2,3,2,4,2)\n",
        "print(tuple.count(2))"
      ],
      "metadata": {
        "colab": {
          "base_uri": "https://localhost:8080/"
        },
        "id": "3eL8t76v1-vI",
        "outputId": "992a9820-e4d0-4766-b804-ac72a02d709d"
      },
      "execution_count": 26,
      "outputs": [
        {
          "output_type": "stream",
          "name": "stdout",
          "text": [
            "3\n"
          ]
        }
      ]
    },
    {
      "cell_type": "code",
      "source": [
        "# 21 Write a code to find the index of the element \"cat\" in the tuple ('dog','cat','rabbit').\n",
        "tuple = ('dog','cat','rabbit')\n",
        "print(tuple.index('cat'))"
      ],
      "metadata": {
        "colab": {
          "base_uri": "https://localhost:8080/"
        },
        "id": "3qxys5yM1-4x",
        "outputId": "d38809cc-5147-4586-e9ca-b042eb03641a"
      },
      "execution_count": 27,
      "outputs": [
        {
          "output_type": "stream",
          "name": "stdout",
          "text": [
            "1\n"
          ]
        }
      ]
    },
    {
      "cell_type": "code",
      "source": [
        "# 22 Write a code to check if the element \"banana\" is in the tuple  ('apple','orange','banana').\n",
        "tuple = ('apple','orange','banana')\n",
        "print('banana' in tuple)"
      ],
      "metadata": {
        "colab": {
          "base_uri": "https://localhost:8080/"
        },
        "id": "IYIEZX6J1_Bo",
        "outputId": "3c551bb9-9901-462f-9c7b-65eb51394c11"
      },
      "execution_count": 28,
      "outputs": [
        {
          "output_type": "stream",
          "name": "stdout",
          "text": [
            "True\n"
          ]
        }
      ]
    },
    {
      "cell_type": "code",
      "source": [
        "# 23 Write a code to create a set with the elements 1,2,3,4,5 and print it.\n",
        "set = {1,2,3,4,5}\n",
        "print(set)"
      ],
      "metadata": {
        "colab": {
          "base_uri": "https://localhost:8080/"
        },
        "id": "46IKImMQ1_Kg",
        "outputId": "a12a2379-b64b-4b55-eb6c-d686b3823ebc"
      },
      "execution_count": 29,
      "outputs": [
        {
          "output_type": "stream",
          "name": "stdout",
          "text": [
            "{1, 2, 3, 4, 5}\n"
          ]
        }
      ]
    },
    {
      "cell_type": "code",
      "source": [
        "# 24 Write a code to add the element 6 to the set {1,2,3,4}.\n",
        "set = {1,2,3,4}\n",
        "set.add(6)\n",
        "print(set)"
      ],
      "metadata": {
        "colab": {
          "base_uri": "https://localhost:8080/"
        },
        "id": "3raz7jPn1_Sl",
        "outputId": "ca58f04d-12ef-4524-b515-173f564e1d9c"
      },
      "execution_count": 30,
      "outputs": [
        {
          "output_type": "stream",
          "name": "stdout",
          "text": [
            "{1, 2, 3, 4, 6}\n"
          ]
        }
      ]
    }
  ]
}